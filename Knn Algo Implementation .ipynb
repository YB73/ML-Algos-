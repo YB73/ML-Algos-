{
 "cells": [
  {
   "cell_type": "markdown",
   "id": "8cfacd2d",
   "metadata": {},
   "source": [
    "### K nearest neighbors "
   ]
  },
  {
   "cell_type": "code",
   "execution_count": null,
   "id": "115d4905",
   "metadata": {},
   "outputs": [],
   "source": [
    "# Load the data\n",
    "# Initialize K to your chosen number of neighbors\n",
    "# 3. For each example in the data\n",
    "# 3.1 Calculate the distance between the query example and the current example from the data.\n",
    "# 3.2 Add the distance and the index of the example to an ordered collection\n",
    "# 4. Sort the ordered collection of distances and indices from smallest to largest (in ascending order) by the distances\n",
    "# 5. Pick the first K entries from the sorted collection\n",
    "# 6. Get the labels of the selected K entries\n",
    "# 7. If regression, return the mean of the K labels\n",
    "# 8. If classification, return the mode of the K labels"
   ]
  },
  {
   "cell_type": "code",
   "execution_count": 3,
   "id": "fc287328",
   "metadata": {},
   "outputs": [
    {
     "name": "stdout",
     "output_type": "stream",
     "text": [
      "Enter the value of nearest neighbours to be considered : 3\n",
      "[(5.75, 0)] 112.99\n"
     ]
    }
   ],
   "source": [
    "from collections import Counter\n",
    "import math \n",
    "def Knn(data, query, k, distance_fn, choice_fn):\n",
    "    indice_dist = []\n",
    "    \n",
    "    for index, example in enumerate(data):\n",
    "        distance = distance_fn(example[:-1], query) # calculating the distance\n",
    "        \n",
    "        indice_dist.append((distance, index)) # appending the distance and index\n",
    "        \n",
    "        sorted_indice_dist = sorted(indice_dist)\n",
    "        \n",
    "        k_dist = sorted_indice_dist[:k]\n",
    "        \n",
    "        k_nearest_label = [data[i][-1] for distance, i in k_dist ]\n",
    "        \n",
    "        return k_dist, choice_fn(k_nearest_label)\n",
    "    \n",
    "\n",
    "def mean(labels):\n",
    "    return sum(labels) / len(labels)\n",
    "\n",
    "\n",
    "def euclidean_dist(point1, point2):\n",
    "    sum_squared_dist = 0\n",
    "    for i in range(len(point1)):\n",
    "        sum_squared_dist += math.pow(point1[i] - point2[i], 2)\n",
    "        \n",
    "        return math.sqrt(sum_squared_dist)\n",
    "        \n",
    "        \n",
    "        \n",
    "def main():\n",
    "    # K Nearest Neighbours algo for regression data \n",
    "    \n",
    "    reg_data = [\n",
    "       [65.75, 112.99],\n",
    "       [71.52, 136.49],\n",
    "       [69.40, 153.03],\n",
    "       [68.22, 142.34],\n",
    "       [67.79, 144.30],\n",
    "       [68.70, 123.30],\n",
    "       [69.80, 141.49],\n",
    "       [70.01, 136.46],\n",
    "       [67.90, 112.37],\n",
    "       [66.49, 127.45],\n",
    "    ]\n",
    "    \n",
    "    \n",
    "    reg_query = [60]\n",
    "    \n",
    "    k = int(input(\"Enter the value of nearest neighbours to be considered : \"))\n",
    "    \n",
    "    reg_k_nearest_neighbours, reg_prediction = Knn( reg_data, reg_query, k, distance_fn=euclidean_dist, choice_fn=mean)\n",
    "    \n",
    "    \n",
    "    print(reg_k_nearest_neighbours, reg_prediction)\n",
    "    \n",
    "if __name__ == '__main__':\n",
    "    main()        "
   ]
  },
  {
   "cell_type": "code",
   "execution_count": null,
   "id": "bc036f36",
   "metadata": {},
   "outputs": [],
   "source": []
  }
 ],
 "metadata": {
  "kernelspec": {
   "display_name": "Python 3 (ipykernel)",
   "language": "python",
   "name": "python3"
  },
  "language_info": {
   "codemirror_mode": {
    "name": "ipython",
    "version": 3
   },
   "file_extension": ".py",
   "mimetype": "text/x-python",
   "name": "python",
   "nbconvert_exporter": "python",
   "pygments_lexer": "ipython3",
   "version": "3.10.1"
  }
 },
 "nbformat": 4,
 "nbformat_minor": 5
}
